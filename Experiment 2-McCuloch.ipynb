{
 "cells": [
  {
   "cell_type": "code",
   "execution_count": 2,
   "id": "8e5087f8",
   "metadata": {},
   "outputs": [
    {
     "name": "stdout",
     "output_type": "stream",
     "text": [
      "Input (x1, x2) | Output (ANDNOT)\n",
      "------------------------------\n",
      "(0, 0) | 0\n",
      "(0, 1) | 0\n",
      "(1, 0) | 1\n",
      "(1, 1) | 0\n"
     ]
    }
   ],
   "source": [
    "def mcculloch_pitts_andnot(x1, x2, w1, w2, threshold):\n",
    "    \n",
    "    net_input = x1 * w1 + x2 * w2\n",
    "    if net_input >= threshold:\n",
    "        return 1\n",
    "    else:\n",
    "        return 0\n",
    "\n",
    "# Example usage\n",
    "x1_values = [0, 0, 1, 1]\n",
    "x2_values = [0, 1, 0, 1]\n",
    "w1_value = 2\n",
    "w2_value = -2\n",
    "threshold_value = 2\n",
    "\n",
    "print(\"Input (x1, x2) | Output (ANDNOT)\")\n",
    "print(\"-\" * 30)\n",
    "for i in range(4):\n",
    "    result = mcculloch_pitts_andnot(x1_values[i], x2_values[i], w1_value, w2_value, threshold_value)\n",
    "    print(f\"({x1_values[i]}, {x2_values[i]}) | {result}\")"
   ]
  },
  {
   "cell_type": "code",
   "execution_count": null,
   "id": "ec99ec09",
   "metadata": {},
   "outputs": [],
   "source": []
  }
 ],
 "metadata": {
  "kernelspec": {
   "display_name": "Python 3 (ipykernel)",
   "language": "python",
   "name": "python3"
  },
  "language_info": {
   "codemirror_mode": {
    "name": "ipython",
    "version": 3
   },
   "file_extension": ".py",
   "mimetype": "text/x-python",
   "name": "python",
   "nbconvert_exporter": "python",
   "pygments_lexer": "ipython3",
   "version": "3.11.5"
  }
 },
 "nbformat": 4,
 "nbformat_minor": 5
}
